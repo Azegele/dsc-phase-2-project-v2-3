{
 "cells": [
  {
   "cell_type": "markdown",
   "metadata": {},
   "source": [
    "# Final Project Submission\n",
    "\n",
    "Please fill out:\n",
    "* Student name: Bradley Azegele \n",
    "* Student pace: full time\n",
    "* Scheduled project review date/time: \n",
    "* Instructor name: \n",
    "* Blog post URL:\n"
   ]
  },
  {
   "cell_type": "code",
   "execution_count": 1,
   "metadata": {},
   "outputs": [],
   "source": [
    "# Your code here - remember to use markdown cells for comments as well!"
   ]
  },
  {
   "cell_type": "markdown",
   "metadata": {},
   "source": [
    "## Overview\n",
    "\n",
    "This project investigates the factors affecting prices of houses in King County, Washington.\n",
    "\n",
    "## Business Understanding\n",
    "\n",
    "To identify how house prices are affected by various factors and to provide a guide on how to best identify properties that bear a high resell value for to maximize on profit margins.\n",
    "\n",
    "## EDA\n",
    "\n",
    "Preparing daataa for plotting using Tableau\n"
   ]
  },
  {
   "cell_type": "code",
   "execution_count": 2,
   "metadata": {},
   "outputs": [],
   "source": [
    "#import all necessary libraries\n",
    "import numpy as np\n",
    "import pandas as pd\n",
    "import statsmodels.api as sm\n",
    "import scipy.stats as stats\n",
    "import statsmodels.formula.api as smf\n",
    "import seaborn as sns\n",
    "import matplotlib.pyplot as plt\n",
    "from statsmodels.formula.api import ols\n",
    "from sklearn.preprocessing import StandardScaler\n",
    "from statsmodels.stats.outliers_influence import variance_inflation_factor\n",
    "from sklearn.model_selection import train_test_split\n",
    "from sklearn.metrics import mean_squared_error\n",
    "from sklearn.linear_model import LinearRegression"
   ]
  },
  {
   "cell_type": "code",
   "execution_count": 3,
   "metadata": {},
   "outputs": [],
   "source": [
    "#import the data\n",
    "data = pd.read_csv(\"data/kc_house_data.csv\")"
   ]
  },
  {
   "cell_type": "markdown",
   "metadata": {},
   "source": [
    "\n",
    "### Column Names and Descriptions for King County Data Set\n",
    "* `id` - Unique identifier for a house\n",
    "* `date` - Date house was sold\n",
    "* `price` - Sale price (prediction target)\n",
    "* `bedrooms` - Number of bedrooms\n",
    "* `bathrooms` - Number of bathrooms\n",
    "* `sqft_living` - Square footage of living space in the home\n",
    "* `sqft_lot` - Square footage of the lot\n",
    "* `floors` - Number of floors (levels) in house\n",
    "* `waterfront` - Whether the house is on a waterfront\n",
    "  * Includes Duwamish, Elliott Bay, Puget Sound, Lake Union, Ship Canal, Lake Washington, Lake Sammamish, other lake, and river/slough waterfronts\n",
    "* `view` - Quality of view from house\n",
    "  * Includes views of Mt. Rainier, Olympics, Cascades, Territorial, Seattle Skyline, Puget Sound, Lake Washington, Lake Sammamish, small lake / river / creek, and other\n",
    "* `condition` - How good the overall condition of the house is. Related to maintenance of house.\n",
    "  * See the [King County Assessor Website](https://info.kingcounty.gov/assessor/esales/Glossary.aspx?type=r) for further explanation of each condition code\n",
    "* `grade` - Overall grade of the house. Related to the construction and design of the house.\n",
    "  * See the [King County Assessor Website](https://info.kingcounty.gov/assessor/esales/Glossary.aspx?type=r) for further explanation of each building grade code\n",
    "* `sqft_above` - Square footage of house apart from basement\n",
    "* `sqft_basement` - Square footage of the basement\n",
    "* `yr_built` - Year when house was built\n",
    "* `yr_renovated` - Year when house was renovated\n",
    "* `zipcode` - ZIP Code used by the United States Postal Service\n",
    "* `lat` - Latitude coordinate\n",
    "* `long` - Longitude coordinate\n",
    "* `sqft_living15` - The square footage of interior housing living space for the nearest 15 neighbors\n",
    "* `sqft_lot15` - The square footage of the land lots of the nearest 15 neighbors\n",
    "\n"
   ]
  },
  {
   "cell_type": "code",
   "execution_count": 4,
   "metadata": {},
   "outputs": [
    {
     "data": {
      "text/html": [
       "<div>\n",
       "<style scoped>\n",
       "    .dataframe tbody tr th:only-of-type {\n",
       "        vertical-align: middle;\n",
       "    }\n",
       "\n",
       "    .dataframe tbody tr th {\n",
       "        vertical-align: top;\n",
       "    }\n",
       "\n",
       "    .dataframe thead th {\n",
       "        text-align: right;\n",
       "    }\n",
       "</style>\n",
       "<table border=\"1\" class=\"dataframe\">\n",
       "  <thead>\n",
       "    <tr style=\"text-align: right;\">\n",
       "      <th></th>\n",
       "      <th>id</th>\n",
       "      <th>date</th>\n",
       "      <th>price</th>\n",
       "      <th>bedrooms</th>\n",
       "      <th>bathrooms</th>\n",
       "      <th>sqft_living</th>\n",
       "      <th>sqft_lot</th>\n",
       "      <th>floors</th>\n",
       "      <th>waterfront</th>\n",
       "      <th>view</th>\n",
       "      <th>...</th>\n",
       "      <th>grade</th>\n",
       "      <th>sqft_above</th>\n",
       "      <th>sqft_basement</th>\n",
       "      <th>yr_built</th>\n",
       "      <th>yr_renovated</th>\n",
       "      <th>zipcode</th>\n",
       "      <th>lat</th>\n",
       "      <th>long</th>\n",
       "      <th>sqft_living15</th>\n",
       "      <th>sqft_lot15</th>\n",
       "    </tr>\n",
       "  </thead>\n",
       "  <tbody>\n",
       "    <tr>\n",
       "      <th>0</th>\n",
       "      <td>7129300520</td>\n",
       "      <td>10/13/2014</td>\n",
       "      <td>221900.0</td>\n",
       "      <td>3</td>\n",
       "      <td>1.00</td>\n",
       "      <td>1180</td>\n",
       "      <td>5650</td>\n",
       "      <td>1.0</td>\n",
       "      <td>NaN</td>\n",
       "      <td>NONE</td>\n",
       "      <td>...</td>\n",
       "      <td>7 Average</td>\n",
       "      <td>1180</td>\n",
       "      <td>0.0</td>\n",
       "      <td>1955</td>\n",
       "      <td>0.0</td>\n",
       "      <td>98178</td>\n",
       "      <td>47.5112</td>\n",
       "      <td>-122.257</td>\n",
       "      <td>1340</td>\n",
       "      <td>5650</td>\n",
       "    </tr>\n",
       "    <tr>\n",
       "      <th>1</th>\n",
       "      <td>6414100192</td>\n",
       "      <td>12/9/2014</td>\n",
       "      <td>538000.0</td>\n",
       "      <td>3</td>\n",
       "      <td>2.25</td>\n",
       "      <td>2570</td>\n",
       "      <td>7242</td>\n",
       "      <td>2.0</td>\n",
       "      <td>NO</td>\n",
       "      <td>NONE</td>\n",
       "      <td>...</td>\n",
       "      <td>7 Average</td>\n",
       "      <td>2170</td>\n",
       "      <td>400.0</td>\n",
       "      <td>1951</td>\n",
       "      <td>1991.0</td>\n",
       "      <td>98125</td>\n",
       "      <td>47.7210</td>\n",
       "      <td>-122.319</td>\n",
       "      <td>1690</td>\n",
       "      <td>7639</td>\n",
       "    </tr>\n",
       "    <tr>\n",
       "      <th>2</th>\n",
       "      <td>5631500400</td>\n",
       "      <td>2/25/2015</td>\n",
       "      <td>180000.0</td>\n",
       "      <td>2</td>\n",
       "      <td>1.00</td>\n",
       "      <td>770</td>\n",
       "      <td>10000</td>\n",
       "      <td>1.0</td>\n",
       "      <td>NO</td>\n",
       "      <td>NONE</td>\n",
       "      <td>...</td>\n",
       "      <td>6 Low Average</td>\n",
       "      <td>770</td>\n",
       "      <td>0.0</td>\n",
       "      <td>1933</td>\n",
       "      <td>NaN</td>\n",
       "      <td>98028</td>\n",
       "      <td>47.7379</td>\n",
       "      <td>-122.233</td>\n",
       "      <td>2720</td>\n",
       "      <td>8062</td>\n",
       "    </tr>\n",
       "    <tr>\n",
       "      <th>3</th>\n",
       "      <td>2487200875</td>\n",
       "      <td>12/9/2014</td>\n",
       "      <td>604000.0</td>\n",
       "      <td>4</td>\n",
       "      <td>3.00</td>\n",
       "      <td>1960</td>\n",
       "      <td>5000</td>\n",
       "      <td>1.0</td>\n",
       "      <td>NO</td>\n",
       "      <td>NONE</td>\n",
       "      <td>...</td>\n",
       "      <td>7 Average</td>\n",
       "      <td>1050</td>\n",
       "      <td>910.0</td>\n",
       "      <td>1965</td>\n",
       "      <td>0.0</td>\n",
       "      <td>98136</td>\n",
       "      <td>47.5208</td>\n",
       "      <td>-122.393</td>\n",
       "      <td>1360</td>\n",
       "      <td>5000</td>\n",
       "    </tr>\n",
       "    <tr>\n",
       "      <th>4</th>\n",
       "      <td>1954400510</td>\n",
       "      <td>2/18/2015</td>\n",
       "      <td>510000.0</td>\n",
       "      <td>3</td>\n",
       "      <td>2.00</td>\n",
       "      <td>1680</td>\n",
       "      <td>8080</td>\n",
       "      <td>1.0</td>\n",
       "      <td>NO</td>\n",
       "      <td>NONE</td>\n",
       "      <td>...</td>\n",
       "      <td>8 Good</td>\n",
       "      <td>1680</td>\n",
       "      <td>0.0</td>\n",
       "      <td>1987</td>\n",
       "      <td>0.0</td>\n",
       "      <td>98074</td>\n",
       "      <td>47.6168</td>\n",
       "      <td>-122.045</td>\n",
       "      <td>1800</td>\n",
       "      <td>7503</td>\n",
       "    </tr>\n",
       "  </tbody>\n",
       "</table>\n",
       "<p>5 rows × 21 columns</p>\n",
       "</div>"
      ],
      "text/plain": [
       "           id        date     price  bedrooms  bathrooms  sqft_living  \\\n",
       "0  7129300520  10/13/2014  221900.0         3       1.00         1180   \n",
       "1  6414100192   12/9/2014  538000.0         3       2.25         2570   \n",
       "2  5631500400   2/25/2015  180000.0         2       1.00          770   \n",
       "3  2487200875   12/9/2014  604000.0         4       3.00         1960   \n",
       "4  1954400510   2/18/2015  510000.0         3       2.00         1680   \n",
       "\n",
       "   sqft_lot  floors waterfront  view  ...          grade sqft_above  \\\n",
       "0      5650     1.0        NaN  NONE  ...      7 Average       1180   \n",
       "1      7242     2.0         NO  NONE  ...      7 Average       2170   \n",
       "2     10000     1.0         NO  NONE  ...  6 Low Average        770   \n",
       "3      5000     1.0         NO  NONE  ...      7 Average       1050   \n",
       "4      8080     1.0         NO  NONE  ...         8 Good       1680   \n",
       "\n",
       "   sqft_basement yr_built  yr_renovated  zipcode      lat     long  \\\n",
       "0            0.0     1955           0.0    98178  47.5112 -122.257   \n",
       "1          400.0     1951        1991.0    98125  47.7210 -122.319   \n",
       "2            0.0     1933           NaN    98028  47.7379 -122.233   \n",
       "3          910.0     1965           0.0    98136  47.5208 -122.393   \n",
       "4            0.0     1987           0.0    98074  47.6168 -122.045   \n",
       "\n",
       "   sqft_living15  sqft_lot15  \n",
       "0           1340        5650  \n",
       "1           1690        7639  \n",
       "2           2720        8062  \n",
       "3           1360        5000  \n",
       "4           1800        7503  \n",
       "\n",
       "[5 rows x 21 columns]"
      ]
     },
     "execution_count": 4,
     "metadata": {},
     "output_type": "execute_result"
    }
   ],
   "source": [
    "data.head() #first 5 entries"
   ]
  },
  {
   "cell_type": "code",
   "execution_count": 5,
   "metadata": {},
   "outputs": [
    {
     "data": {
      "text/plain": [
       "id                  0\n",
       "date                0\n",
       "price               0\n",
       "bedrooms            0\n",
       "bathrooms           0\n",
       "sqft_living         0\n",
       "sqft_lot            0\n",
       "floors              0\n",
       "waterfront       2376\n",
       "view               63\n",
       "condition           0\n",
       "grade               0\n",
       "sqft_above          0\n",
       "sqft_basement       0\n",
       "yr_built            0\n",
       "yr_renovated     3842\n",
       "zipcode             0\n",
       "lat                 0\n",
       "long                0\n",
       "sqft_living15       0\n",
       "sqft_lot15          0\n",
       "dtype: int64"
      ]
     },
     "execution_count": 5,
     "metadata": {},
     "output_type": "execute_result"
    }
   ],
   "source": [
    "data.isna().sum() #check for nulls"
   ]
  },
  {
   "cell_type": "code",
   "execution_count": 6,
   "metadata": {},
   "outputs": [
    {
     "data": {
      "text/plain": [
       "NO     19075\n",
       "YES      146\n",
       "Name: waterfront, dtype: int64"
      ]
     },
     "execution_count": 6,
     "metadata": {},
     "output_type": "execute_result"
    }
   ],
   "source": [
    "data[\"waterfront\"].value_counts()"
   ]
  },
  {
   "cell_type": "code",
   "execution_count": 7,
   "metadata": {},
   "outputs": [
    {
     "data": {
      "text/plain": [
       "0.0       17011\n",
       "2014.0       73\n",
       "2003.0       31\n",
       "2013.0       31\n",
       "2007.0       30\n",
       "          ...  \n",
       "1946.0        1\n",
       "1959.0        1\n",
       "1971.0        1\n",
       "1951.0        1\n",
       "1954.0        1\n",
       "Name: yr_renovated, Length: 70, dtype: int64"
      ]
     },
     "execution_count": 7,
     "metadata": {},
     "output_type": "execute_result"
    }
   ],
   "source": [
    "data[\"yr_renovated\"].value_counts()"
   ]
  },
  {
   "cell_type": "code",
   "execution_count": 8,
   "metadata": {},
   "outputs": [
    {
     "data": {
      "text/plain": [
       "NONE         19422\n",
       "AVERAGE        957\n",
       "GOOD           508\n",
       "FAIR           330\n",
       "EXCELLENT      317\n",
       "Name: view, dtype: int64"
      ]
     },
     "execution_count": 8,
     "metadata": {},
     "output_type": "execute_result"
    }
   ],
   "source": [
    "data[\"view\"].value_counts()"
   ]
  },
  {
   "cell_type": "code",
   "execution_count": 9,
   "metadata": {},
   "outputs": [],
   "source": [
    "#fill all null values with most common value\n",
    "data = data.fillna({\"waterfront\": \"NO\" , \\\n",
    "                    \"yr_renovated\": 0.0, \\\n",
    "                    \"view\" : \"NONE\"})"
   ]
  },
  {
   "cell_type": "code",
   "execution_count": 10,
   "metadata": {},
   "outputs": [
    {
     "name": "stdout",
     "output_type": "stream",
     "text": [
      "<class 'pandas.core.frame.DataFrame'>\n",
      "RangeIndex: 21597 entries, 0 to 21596\n",
      "Data columns (total 21 columns):\n",
      " #   Column         Non-Null Count  Dtype  \n",
      "---  ------         --------------  -----  \n",
      " 0   id             21597 non-null  int64  \n",
      " 1   date           21597 non-null  object \n",
      " 2   price          21597 non-null  float64\n",
      " 3   bedrooms       21597 non-null  int64  \n",
      " 4   bathrooms      21597 non-null  float64\n",
      " 5   sqft_living    21597 non-null  int64  \n",
      " 6   sqft_lot       21597 non-null  int64  \n",
      " 7   floors         21597 non-null  float64\n",
      " 8   waterfront     21597 non-null  object \n",
      " 9   view           21597 non-null  object \n",
      " 10  condition      21597 non-null  object \n",
      " 11  grade          21597 non-null  object \n",
      " 12  sqft_above     21597 non-null  int64  \n",
      " 13  sqft_basement  21597 non-null  object \n",
      " 14  yr_built       21597 non-null  int64  \n",
      " 15  yr_renovated   21597 non-null  float64\n",
      " 16  zipcode        21597 non-null  int64  \n",
      " 17  lat            21597 non-null  float64\n",
      " 18  long           21597 non-null  float64\n",
      " 19  sqft_living15  21597 non-null  int64  \n",
      " 20  sqft_lot15     21597 non-null  int64  \n",
      "dtypes: float64(6), int64(9), object(6)\n",
      "memory usage: 3.5+ MB\n"
     ]
    }
   ],
   "source": [
    "# checking if data types match description ie numerical and strings categories\n",
    "data.info() "
   ]
  },
  {
   "cell_type": "code",
   "execution_count": 11,
   "metadata": {},
   "outputs": [
    {
     "data": {
      "text/plain": [
       "0.0       12826\n",
       "?           454\n",
       "600.0       217\n",
       "500.0       209\n",
       "700.0       208\n",
       "          ...  \n",
       "143.0         1\n",
       "935.0         1\n",
       "1284.0        1\n",
       "2730.0        1\n",
       "207.0         1\n",
       "Name: sqft_basement, Length: 304, dtype: int64"
      ]
     },
     "execution_count": 11,
     "metadata": {},
     "output_type": "execute_result"
    }
   ],
   "source": [
    "data[\"sqft_basement\"].value_counts()"
   ]
  },
  {
   "cell_type": "code",
   "execution_count": 12,
   "metadata": {},
   "outputs": [],
   "source": [
    "data[\"sqft_basement\"] = data[\"sqft_basement\"].replace\\\n",
    "                        (to_replace=\"?\",value=\"0.0\").astype(float)"
   ]
  },
  {
   "cell_type": "code",
   "execution_count": 13,
   "metadata": {},
   "outputs": [
    {
     "data": {
      "text/plain": [
       "NONE         19485\n",
       "AVERAGE        957\n",
       "GOOD           508\n",
       "FAIR           330\n",
       "EXCELLENT      317\n",
       "Name: view, dtype: int64"
      ]
     },
     "execution_count": 13,
     "metadata": {},
     "output_type": "execute_result"
    }
   ],
   "source": [
    "data[\"view\"] = data[\"view\"].astype(\"category\")\n",
    "data[\"view\"].value_counts()"
   ]
  },
  {
   "cell_type": "code",
   "execution_count": 14,
   "metadata": {},
   "outputs": [
    {
     "data": {
      "text/plain": [
       "Average      14020\n",
       "Good          5677\n",
       "Very Good     1701\n",
       "Fair           170\n",
       "Poor            29\n",
       "Name: condition, dtype: int64"
      ]
     },
     "execution_count": 14,
     "metadata": {},
     "output_type": "execute_result"
    }
   ],
   "source": [
    "data[\"condition\"] = data[\"condition\"].astype(\"category\")\n",
    "data[\"condition\"].value_counts()"
   ]
  },
  {
   "cell_type": "code",
   "execution_count": 15,
   "metadata": {},
   "outputs": [
    {
     "data": {
      "text/plain": [
       "7 Average        8974\n",
       "8 Good           6065\n",
       "9 Better         2615\n",
       "6 Low Average    2038\n",
       "10 Very Good     1134\n",
       "11 Excellent      399\n",
       "5 Fair            242\n",
       "12 Luxury          89\n",
       "4 Low              27\n",
       "13 Mansion         13\n",
       "3 Poor              1\n",
       "Name: grade, dtype: int64"
      ]
     },
     "execution_count": 15,
     "metadata": {},
     "output_type": "execute_result"
    }
   ],
   "source": [
    "data[\"grade\"]= data[\"grade\"].astype(\"category\")\n",
    "data[\"grade\"].value_counts()"
   ]
  },
  {
   "cell_type": "markdown",
   "metadata": {},
   "source": [
    "Interact with visual here: https://public.tableau.com/views/KingCountyHousing_16643081903370/Sheet1?:language=en-GB&publish=yes&:display_count=n&:origin=viz_share_link"
   ]
  },
  {
   "cell_type": "code",
   "execution_count": 16,
   "metadata": {},
   "outputs": [],
   "source": [
    "data_viz = data\n",
    "data_viz.to_excel(\"data/Graphing_data/visuals.xlsx\")"
   ]
  },
  {
   "cell_type": "markdown",
   "metadata": {},
   "source": [
    "### Visualisations of displaying corellation of various conditions to price\n",
    "The average line highlights where most values reside.\n",
    "\n",
    "   #### Standard deviation of Price by zipcode\n",
    "   \n",
    "<div class='tableauPlaceholder' id='viz1664392872997' style='position: relative'><noscript><a href='#'><img alt=' ' src='https:&#47;&#47;public.tableau.com&#47;static&#47;images&#47;Ki&#47;KingCountyHousingVisuals&#47;Map&#47;1_rss.png' style='border: none' /></a></noscript><object class='tableauViz'  style='display:none;'><param name='host_url' value='https%3A%2F%2Fpublic.tableau.com%2F' /> <param name='embed_code_version' value='3' /> <param name='site_root' value='' /><param name='name' value='KingCountyHousingVisuals&#47;Map' /><param name='tabs' value='yes' /><param name='toolbar' value='yes' /><param name='static_image' value='https:&#47;&#47;public.tableau.com&#47;static&#47;images&#47;Ki&#47;KingCountyHousingVisuals&#47;Map&#47;1.png' /> <param name='animate_transition' value='yes' /><param name='display_static_image' value='yes' /><param name='display_spinner' value='yes' /><param name='display_overlay' value='yes' /><param name='display_count' value='yes' /><param name='language' value='en-GB' /><param name='filter' value='publish=yes' /></object></div>                <script type='text/javascript'>                    var divElement = document.getElementById('viz1664392872997');                    var vizElement = divElement.getElementsByTagName('object')[0];                    vizElement.style.width='100%';vizElement.style.height=(divElement.offsetWidth*0.75)+'px';                    var scriptElement = document.createElement('script');                    scriptElement.src = 'https://public.tableau.com/javascripts/api/viz_v1.js';                    vizElement.parentNode.insertBefore(scriptElement, vizElement);                </script>\n",
    "\n",
    "Interact with visual here: https://public.tableau.com/views/KingCountyHousingVisuals/Map?:language=en-GB&publish=yes&:display_count=n&:origin=viz_share_link"
   ]
  },
  {
   "cell_type": "markdown",
   "metadata": {},
   "source": [
    "   #### Price to number of bedrooms\n",
    "   The graph shows median price per bedroom count highlighting the average house price with a 95% confidence interval (average)\n",
    "   \n",
    "<img src=\"data/Graphs/price_comp/Bedrooms.png\">\n",
    "\n",
    "\n",
    "Interact with visual here: https://public.tableau.com/views/KingCountyHousingVisuals/Bedrooms?:language=en-GB&publish=yes&:display_count=n&:origin=viz_share_link"
   ]
  },
  {
   "cell_type": "markdown",
   "metadata": {},
   "source": [
    "   #### Price to number of bathrooms\n",
    "   The graph shows median price per bathroom count highlighting the average house price 95% confidence interval\n",
    "   \n",
    "<img src=\"data/Graphs/price_comp/Bathrooms.png\">\n",
    "\n",
    "Interact with visual here: https://public.tableau.com/views/KingCountyHousingVisuals/Bathrooms?:language=en-GB&publish=yes&:display_count=n&:origin=viz_share_link"
   ]
  },
  {
   "cell_type": "markdown",
   "metadata": {},
   "source": [
    "   #### Price to sqft_living\n",
    "   The graph shows median price to sqft_living highlighting the average house price with 95% confidence interval\n",
    "   \n",
    "<img src=\"data/Graphs/price_comp/Sqft_living.png\">\n",
    "\n",
    "Interact with visual here: https://public.tableau.com/views/KingCountyHousingVisuals/Sqft_living?:language=en-GB&publish=yes&:display_count=n&:origin=viz_share_link"
   ]
  },
  {
   "cell_type": "markdown",
   "metadata": {},
   "source": [
    "   #### Price to sqft_lot\n",
    "   The graph shows median price to sqtf_lot highlighting the average house price with a 95% confidence interval (average)\n",
    "   \n",
    "<img src=\"data/Graphs/price_comp/Sqft_lot.png\">\n",
    "\n",
    "Interact with visual here: https://public.tableau.com/views/KingCountyHousingVisuals/Sqft_lot?:language=en-GB&publish=yes&:display_count=n&:origin=viz_share_link"
   ]
  },
  {
   "cell_type": "markdown",
   "metadata": {},
   "source": [
    "   #### Price to number of floors\n",
    "   The graph shows median price to number of floors highlighting the average house price with a 95% confidence interval (average)\n",
    "   \n",
    "<img src=\"data/Graphs/price_comp/Floors.png\">\n",
    "\n",
    "Interact with visual here: https://public.tableau.com/views/KingCountyHousingVisuals/Floors?:language=en-GB&publish=yes&:display_count=n&:origin=viz_share_link"
   ]
  },
  {
   "cell_type": "markdown",
   "metadata": {},
   "source": [
    "   #### Price to Watefront(Y/N)\n",
    "   The graph shows median price to the presence or absence of a watergront with average house price with a 95% confidence interval (average)\n",
    "   \n",
    "<img src=\"data/Graphs/price_comp/Waterfront.png\">\n",
    "\n",
    "Interact with visual here: https://public.tableau.com/views/KingCountyHousingVisuals/Waterfront?:language=en-GB&publish=yes&:display_count=n&:origin=viz_share_link"
   ]
  },
  {
   "cell_type": "markdown",
   "metadata": {},
   "source": [
    "   #### Price to View rating\n",
    "   The graph shows median price to view rating highlighting the average house price with a 95% confidence interval (average)\n",
    "   \n",
    "<img src=\"data/Graphs/price_comp/View.png\">\n",
    "\n",
    "Interact with visual here: https://public.tableau.com/views/KingCountyHousingVisuals/Sheet1?:language=en-GB&publish=yes&:display_count=n&:origin=viz_share_link"
   ]
  },
  {
   "cell_type": "markdown",
   "metadata": {},
   "source": [
    "   #### Price to Condition Rating\n",
    "   The graph shows median price to condition rating highlighting the average house price with a 95% confidence interval (average)\n",
    "   \n",
    "<img src=\"data/Graphs/price_comp/Condition.png\">\n",
    "\n",
    "Interact with visual here: https://public.tableau.com/views/KingCountyHousingVisuals/Condition?:language=en-GB&publish=yes&:display_count=n&:origin=viz_share_link"
   ]
  },
  {
   "cell_type": "markdown",
   "metadata": {},
   "source": [
    "   #### Price to Grade Rating\n",
    "   The graph shows median price to grade rating highlighting the average house price with a 95% confidence interval (average)\n",
    "   \n",
    "<img src=\"data/Graphs/price_comp/Grade.png\">\n",
    "Interact with visual here: https://public.tableau.com/views/KingCountyHousingVisuals/Grade?:language=en-GB&publish=yes&:display_count=n&:origin=viz_share_link"
   ]
  },
  {
   "cell_type": "markdown",
   "metadata": {},
   "source": [
    "   #### Price to Sqft Above\n",
    "   The graph shows median price to sqft_above highlighting the average house price with a 95% confidence interval (average)\n",
    "   \n",
    "<img src=\"data/Graphs/price_comp/Sqft_above.png\">\n",
    "\n",
    "Interact with visual here: https://public.tableau.com/views/KingCountyHousingVisuals/Sqft_above?:language=en-GB&publish=yes&:display_count=n&:origin=viz_share_link"
   ]
  },
  {
   "cell_type": "markdown",
   "metadata": {},
   "source": [
    "   #### Price to Sqft Basement\n",
    "   The graph shows median price to sqft_basement highlighting the average house price with a 95% confidence interval (average)\n",
    "   \n",
    "<img src=\"data/Graphs/price_comp/Sqft_basement.png\">\n",
    "\n",
    "Interact with visual here: https://public.tableau.com/views/KingCountyHousingVisuals/Sqft_basement?:language=en-GB&publish=yes&:display_count=n&:origin=viz_share_link"
   ]
  },
  {
   "cell_type": "markdown",
   "metadata": {},
   "source": [
    "   #### Price to Year Built\n",
    "   The graph shows median price to condition rating highlighting the average house price with a 95% confidence interval (average)\n",
    "   \n",
    "<img src=\"data/Graphs/price_comp/Yr_built.png\">\n",
    "\n",
    "Interact with visual here: https://public.tableau.com/views/KingCountyHousingVisuals/yr_built?:language=en-GB&publish=yes&:display_count=n&:origin=viz_share_link"
   ]
  },
  {
   "cell_type": "markdown",
   "metadata": {},
   "source": [
    "   #### Price to Year Renovated\n",
    "   The graph shows median price to condition rating highlighting the average house price with a 95% confidence interval (average)\n",
    "   \n",
    "<img src=\"data/Graphs/price_comp/Yr_renovated.png\">\n",
    "\n",
    "Interact with visual here: https://public.tableau.com/views/KingCountyHousingVisuals/yr_renovated?:language=en-GB&publish=yes&:display_count=n&:origin=viz_share_link"
   ]
  },
  {
   "cell_type": "markdown",
   "metadata": {},
   "source": [
    "   #### Price to Sqft Living15\n",
    "   The graph shows median price to sqft_living15 highlighting the average house price with a 95% confidence interval (average)\n",
    "   \n",
    "<img src=\"data/Graphs/price_comp/Sqft_living15.png\">\n",
    "\n",
    "Interact with visual here: https://public.tableau.com/views/KingCountyHousingVisuals/Sqft_living15?:language=en-GB&publish=yes&:display_count=n&:origin=viz_share_link"
   ]
  },
  {
   "cell_type": "markdown",
   "metadata": {},
   "source": [
    "   #### Correlation Matrix of Price\n",
    "   "
   ]
  },
  {
   "cell_type": "code",
   "execution_count": 17,
   "metadata": {},
   "outputs": [],
   "source": [
    "corr_matr = data.corr()"
   ]
  },
  {
   "cell_type": "code",
   "execution_count": 18,
   "metadata": {},
   "outputs": [],
   "source": [
    "corr_matr.to_excel(\"data/Graphing_data/correlation.xlsx\")"
   ]
  },
  {
   "cell_type": "markdown",
   "metadata": {},
   "source": [
    "##### Correlation general\n",
    "<img src=\"data/Graphs/Correlation.png\">\n",
    "\n",
    "##### Correlation price highlighted\n",
    "<img src=\"data/Graphs/price_comp/Correlation_price_highlighted.png\">\n",
    "\n",
    "Interact with visual here: https://public.tableau.com/views/KingCountyHousing_16643081903370/Sheet1?:language=en-GB&publish=yes&:display_count=n&:origin=viz_share_link"
   ]
  },
  {
   "cell_type": "markdown",
   "metadata": {},
   "source": [
    "###  Observations\n",
    "From the analyses conducted above we can deduce that the factors mostly affecting selling price of a house are :\n",
    "\n",
    "      * `sqft_living` - Square footage of living space in the home\n",
    "      * `sqft_above` - Square footage of house apart from basement\n",
    "      * `sqft_living15` - The square footage of interior housing living space for the nearest 15 neighbors\n",
    "      * `bathrooms` - Number of bathrooms\n",
    "A check for multicollinearity is needed."
   ]
  },
  {
   "cell_type": "code",
   "execution_count": 19,
   "metadata": {},
   "outputs": [
    {
     "name": "stdout",
     "output_type": "stream",
     "text": [
      "Multicollinear Features\n"
     ]
    },
    {
     "data": {
      "text/html": [
       "<div>\n",
       "<style scoped>\n",
       "    .dataframe tbody tr th:only-of-type {\n",
       "        vertical-align: middle;\n",
       "    }\n",
       "\n",
       "    .dataframe tbody tr th {\n",
       "        vertical-align: top;\n",
       "    }\n",
       "\n",
       "    .dataframe thead th {\n",
       "        text-align: right;\n",
       "    }\n",
       "</style>\n",
       "<table border=\"1\" class=\"dataframe\">\n",
       "  <thead>\n",
       "    <tr style=\"text-align: right;\">\n",
       "      <th></th>\n",
       "      <th>Correlations</th>\n",
       "      <th>Features</th>\n",
       "    </tr>\n",
       "  </thead>\n",
       "  <tbody>\n",
       "    <tr>\n",
       "      <th>0</th>\n",
       "      <td>0.876448</td>\n",
       "      <td>[sqft_living, sqft_above]</td>\n",
       "    </tr>\n",
       "    <tr>\n",
       "      <th>1</th>\n",
       "      <td>0.876448</td>\n",
       "      <td>[sqft_above, sqft_living]</td>\n",
       "    </tr>\n",
       "  </tbody>\n",
       "</table>\n",
       "</div>"
      ],
      "text/plain": [
       "   Correlations                   Features\n",
       "0      0.876448  [sqft_living, sqft_above]\n",
       "1      0.876448  [sqft_above, sqft_living]"
      ]
     },
     "metadata": {},
     "output_type": "display_data"
    }
   ],
   "source": [
    "multico_features = []\n",
    "multico_corr = []\n",
    "def check_multico(feature):\n",
    "    for idx, correlation in corr_matr[feature].iteritems():\n",
    "        if correlation >= .80 and idx != feature:\n",
    "            multico_features.append([feature, idx])\n",
    "            multico_corr.append(correlation)\n",
    "\n",
    "for feature in corr_matr:\n",
    "    check_multico(feature)\n",
    "multi_df = pd.DataFrame({\"Correlations\":multico_corr, \"Features\": multico_features}).sort_values([\"Correlations\"],\n",
    "                                                                                                 ascending = False)\n",
    "print(\"Multicollinear Features\")\n",
    "display(multi_df)"
   ]
  },
  {
   "cell_type": "markdown",
   "metadata": {},
   "source": [
    "We can further narrow it down to 2 factors:\n",
    "\n",
    "      * `sqft_living` - Square footage of living space in the home\n",
    "      * `bathrooms` - Number of bathrooms\n",
    "      \n",
    "### Conclusion\n",
    "Further analyses is necessary to investigate whether multicolinearity exists in more aspects of the data."
   ]
  },
  {
   "cell_type": "markdown",
   "metadata": {},
   "source": [
    "#### Multicollinearity\n",
    "\n",
    "We need to clean the data before modelling by removing outliers. "
   ]
  },
  {
   "cell_type": "markdown",
   "metadata": {},
   "source": [
    "##### Removing Outliers and Modifying data types"
   ]
  },
  {
   "cell_type": "code",
   "execution_count": 20,
   "metadata": {},
   "outputs": [
    {
     "name": "stderr",
     "output_type": "stream",
     "text": [
      "/Users/AzegeleBradley/opt/anaconda3/envs/learn-env/lib/python3.8/site-packages/seaborn/distributions.py:2551: FutureWarning: `distplot` is a deprecated function and will be removed in a future version. Please adapt your code to use either `displot` (a figure-level function with similar flexibility) or `histplot` (an axes-level function for histograms).\n",
      "  warnings.warn(msg, FutureWarning)\n"
     ]
    },
    {
     "data": {
      "image/png": "[encoded data removed]",
      "text/plain": [
       "<Figure size 864x576 with 1 Axes>"
      ]
     },
     "metadata": {
      "needs_background": "light"
     },
     "output_type": "display_data"
    }
   ],
   "source": [
    "plt.figure(figsize=(12, 8))\n",
    "plt.style.use(\"tableau-colorblind10\")\n",
    "sns.distplot(data[\"price\"])\n",
    "plt.title(\"Price Distribution\",fontweight = \"bold\")\n",
    "plt.tight_layout()"
   ]
  },
  {
   "cell_type": "code",
   "execution_count": 21,
   "metadata": {},
   "outputs": [
    {
     "name": "stdout",
     "output_type": "stream",
     "text": [
      "540296.5735055795 is the mean of the price.\n",
      "367359.634929548 is the standard deviation of the bedrooms.\n"
     ]
    }
   ],
   "source": [
    "m_n = np.mean(data[\"price\"])\n",
    "std_dev = np.std(data[\"price\"])\n",
    "print(f\"{m_n} is the mean of the price.\")\n",
    "print(f\"{std_dev} is the standard deviation of the bedrooms.\")"
   ]
  },
  {
   "cell_type": "code",
   "execution_count": 22,
   "metadata": {},
   "outputs": [
    {
     "name": "stdout",
     "output_type": "stream",
     "text": [
      "1650000.0 is our smallest outlier in price.\n"
     ]
    }
   ],
   "source": [
    "thresh = 3\n",
    "outlier = []\n",
    "for i in data[\"price\"]:\n",
    "    z = (i-m_n)/std_dev\n",
    "    if z > thresh:\n",
    "        outlier.append(i)\n",
    "print(f\"{min(outlier)} is our smallest outlier in price.\")"
   ]
  },
  {
   "cell_type": "code",
   "execution_count": 23,
   "metadata": {},
   "outputs": [],
   "source": [
    "data_clean = data"
   ]
  },
  {
   "cell_type": "code",
   "execution_count": 24,
   "metadata": {},
   "outputs": [],
   "source": [
    "data_clean = data_clean[data[\"price\"] <= min(outlier)]"
   ]
  },
  {
   "cell_type": "code",
   "execution_count": 25,
   "metadata": {},
   "outputs": [
    {
     "data": {
      "text/plain": [
       "1650000.0"
      ]
     },
     "execution_count": 25,
     "metadata": {},
     "output_type": "execute_result"
    }
   ],
   "source": [
    "data_clean[\"price\"].max()"
   ]
  },
  {
   "cell_type": "code",
   "execution_count": 26,
   "metadata": {},
   "outputs": [
    {
     "name": "stderr",
     "output_type": "stream",
     "text": [
      "/Users/AzegeleBradley/opt/anaconda3/envs/learn-env/lib/python3.8/site-packages/seaborn/distributions.py:2551: FutureWarning: `distplot` is a deprecated function and will be removed in a future version. Please adapt your code to use either `displot` (a figure-level function with similar flexibility) or `histplot` (an axes-level function for histograms).\n",
      "  warnings.warn(msg, FutureWarning)\n"
     ]
    },
    {
     "data": {
      "image/png": "[encoded data removed]",
      "text/plain": [
       "<Figure size 864x576 with 1 Axes>"
      ]
     },
     "metadata": {
      "needs_background": "light"
     },
     "output_type": "display_data"
    }
   ],
   "source": [
    "plt.figure(figsize=(12, 8))\n",
    "plt.style.use(\"tableau-colorblind10\")\n",
    "sns.distplot(data_clean[\"price\"])\n",
    "plt.title(\"Price Distribution Normalised\",fontweight = \"bold\")\n",
    "plt.tight_layout()"
   ]
  },
  {
   "cell_type": "code",
   "execution_count": 27,
   "metadata": {},
   "outputs": [
    {
     "name": "stderr",
     "output_type": "stream",
     "text": [
      "/Users/AzegeleBradley/opt/anaconda3/envs/learn-env/lib/python3.8/site-packages/seaborn/distributions.py:2551: FutureWarning: `distplot` is a deprecated function and will be removed in a future version. Please adapt your code to use either `displot` (a figure-level function with similar flexibility) or `histplot` (an axes-level function for histograms).\n",
      "  warnings.warn(msg, FutureWarning)\n"
     ]
    },
    {
     "data": {
      "image/png": "[encoded data removed]",
      "text/plain": [
       "<Figure size 864x576 with 1 Axes>"
      ]
     },
     "metadata": {
      "needs_background": "light"
     },
     "output_type": "display_data"
    }
   ],
   "source": [
    "plt.figure(figsize=(12, 8))\n",
    "plt.style.use(\"tableau-colorblind10\")\n",
    "sns.distplot(data_clean[\"bedrooms\"])\n",
    "plt.title(\"Price Distribution\",fontweight = \"bold\")\n",
    "plt.tight_layout()"
   ]
  },
  {
   "cell_type": "code",
   "execution_count": 28,
   "metadata": {},
   "outputs": [
    {
     "name": "stderr",
     "output_type": "stream",
     "text": [
      "/Users/AzegeleBradley/opt/anaconda3/envs/learn-env/lib/python3.8/site-packages/seaborn/distributions.py:2551: FutureWarning: `distplot` is a deprecated function and will be removed in a future version. Please adapt your code to use either `displot` (a figure-level function with similar flexibility) or `histplot` (an axes-level function for histograms).\n",
      "  warnings.warn(msg, FutureWarning)\n"
     ]
    },
    {
     "data": {
      "image/png": "[encoded data removed]",
      "text/plain": [
       "<Figure size 864x576 with 1 Axes>"
      ]
     },
     "metadata": {
      "needs_background": "light"
     },
     "output_type": "display_data"
    }
   ],
   "source": [
    "plt.figure(figsize=(12, 8))\n",
    "plt.style.use(\"tableau-colorblind10\")\n",
    "sns.distplot(data_clean[\"bathrooms\"])\n",
    "plt.title(\"Price Distribution\")\n",
    "plt.tight_layout()"
   ]
  },
  {
   "cell_type": "code",
   "execution_count": 29,
   "metadata": {},
   "outputs": [
    {
     "name": "stdout",
     "output_type": "stream",
     "text": [
      "3.356816145612298 is the mean of the bedrooms.\n",
      "0.9180853759793801 is the standard deviation of the bedrooms.\n"
     ]
    }
   ],
   "source": [
    "m_n = np.mean(data_clean[\"bedrooms\"])\n",
    "std_dev = np.std(data_clean[\"bedrooms\"])\n",
    "print(f\"{m_n} is the mean of the bedrooms.\")\n",
    "print(f\"{std_dev} is the standard deviation of the bedrooms.\")"
   ]
  },
  {
   "cell_type": "code",
   "execution_count": 30,
   "metadata": {},
   "outputs": [
    {
     "name": "stdout",
     "output_type": "stream",
     "text": [
      "7 is our smallest outlier in bedrooms.\n"
     ]
    }
   ],
   "source": [
    "thresh = 3\n",
    "outlier = []\n",
    "for i in data_clean[\"bedrooms\"]:\n",
    "    z = (i-m_n)/std_dev\n",
    "    if z > thresh:\n",
    "        outlier.append(i)\n",
    "print(f\"{min(outlier)} is our smallest outlier in bedrooms.\")"
   ]
  },
  {
   "cell_type": "code",
   "execution_count": 31,
   "metadata": {},
   "outputs": [],
   "source": [
    "data_clean = data_clean[data_clean[\"bedrooms\"] <= min(outlier)]"
   ]
  },
  {
   "cell_type": "code",
   "execution_count": 32,
   "metadata": {},
   "outputs": [
    {
     "name": "stdout",
     "output_type": "stream",
     "text": [
      "6.25 is our smallest outlier in bathrooms.\n"
     ]
    }
   ],
   "source": [
    "thresh = 3\n",
    "outlier = []\n",
    "for i in data[\"bathrooms\"]:\n",
    "    z = (i-m_n)/std_dev\n",
    "    if z > thresh:\n",
    "        outlier.append(i)\n",
    "print(f\"{min(outlier)} is our smallest outlier in bathrooms.\")"
   ]
  },
  {
   "cell_type": "code",
   "execution_count": 33,
   "metadata": {},
   "outputs": [],
   "source": [
    "data_clean = data_clean[data_clean[\"bathrooms\"] <= min(outlier)]"
   ]
  },
  {
   "cell_type": "code",
   "execution_count": 34,
   "metadata": {},
   "outputs": [
    {
     "name": "stderr",
     "output_type": "stream",
     "text": [
      "/Users/AzegeleBradley/opt/anaconda3/envs/learn-env/lib/python3.8/site-packages/seaborn/distributions.py:2551: FutureWarning: `distplot` is a deprecated function and will be removed in a future version. Please adapt your code to use either `displot` (a figure-level function with similar flexibility) or `histplot` (an axes-level function for histograms).\n",
      "  warnings.warn(msg, FutureWarning)\n"
     ]
    },
    {
     "data": {
      "image/png": "[encoded data removed]",
      "text/plain": [
       "<Figure size 864x576 with 1 Axes>"
      ]
     },
     "metadata": {
      "needs_background": "light"
     },
     "output_type": "display_data"
    }
   ],
   "source": [
    "plt.figure(figsize=(12, 8))\n",
    "plt.style.use(\"tableau-colorblind10\")\n",
    "sns.distplot(data_clean[\"bedrooms\"])\n",
    "plt.title(\"Price Distribution\",fontweight = \"bold\")\n",
    "plt.tight_layout()"
   ]
  },
  {
   "cell_type": "code",
   "execution_count": 35,
   "metadata": {},
   "outputs": [],
   "source": [
    "data_clean = data_clean.drop([\"id\",\"date\",\"floors\",\"sqft_above\",\"sqft_basement\",\"yr_built\",\"yr_renovated\",\"zipcode\",\"lat\",\"long\"],axis=1)"
   ]
  },
  {
   "cell_type": "code",
   "execution_count": 36,
   "metadata": {},
   "outputs": [
    {
     "data": {
      "text/html": [
       "<div>\n",
       "<style scoped>\n",
       "    .dataframe tbody tr th:only-of-type {\n",
       "        vertical-align: middle;\n",
       "    }\n",
       "\n",
       "    .dataframe tbody tr th {\n",
       "        vertical-align: top;\n",
       "    }\n",
       "\n",
       "    .dataframe thead th {\n",
       "        text-align: right;\n",
       "    }\n",
       "</style>\n",
       "<table border=\"1\" class=\"dataframe\">\n",
       "  <thead>\n",
       "    <tr style=\"text-align: right;\">\n",
       "      <th></th>\n",
       "      <th>price</th>\n",
       "      <th>bedrooms</th>\n",
       "      <th>bathrooms</th>\n",
       "      <th>sqft_living</th>\n",
       "      <th>sqft_lot</th>\n",
       "      <th>waterfront</th>\n",
       "      <th>view</th>\n",
       "      <th>condition</th>\n",
       "      <th>grade</th>\n",
       "      <th>sqft_living15</th>\n",
       "      <th>sqft_lot15</th>\n",
       "    </tr>\n",
       "  </thead>\n",
       "  <tbody>\n",
       "    <tr>\n",
       "      <th>0</th>\n",
       "      <td>221900.0</td>\n",
       "      <td>3</td>\n",
       "      <td>1.00</td>\n",
       "      <td>1180</td>\n",
       "      <td>5650</td>\n",
       "      <td>NO</td>\n",
       "      <td>NONE</td>\n",
       "      <td>Average</td>\n",
       "      <td>7 Average</td>\n",
       "      <td>1340</td>\n",
       "      <td>5650</td>\n",
       "    </tr>\n",
       "    <tr>\n",
       "      <th>1</th>\n",
       "      <td>538000.0</td>\n",
       "      <td>3</td>\n",
       "      <td>2.25</td>\n",
       "      <td>2570</td>\n",
       "      <td>7242</td>\n",
       "      <td>NO</td>\n",
       "      <td>NONE</td>\n",
       "      <td>Average</td>\n",
       "      <td>7 Average</td>\n",
       "      <td>1690</td>\n",
       "      <td>7639</td>\n",
       "    </tr>\n",
       "    <tr>\n",
       "      <th>2</th>\n",
       "      <td>180000.0</td>\n",
       "      <td>2</td>\n",
       "      <td>1.00</td>\n",
       "      <td>770</td>\n",
       "      <td>10000</td>\n",
       "      <td>NO</td>\n",
       "      <td>NONE</td>\n",
       "      <td>Average</td>\n",
       "      <td>6 Low Average</td>\n",
       "      <td>2720</td>\n",
       "      <td>8062</td>\n",
       "    </tr>\n",
       "    <tr>\n",
       "      <th>3</th>\n",
       "      <td>604000.0</td>\n",
       "      <td>4</td>\n",
       "      <td>3.00</td>\n",
       "      <td>1960</td>\n",
       "      <td>5000</td>\n",
       "      <td>NO</td>\n",
       "      <td>NONE</td>\n",
       "      <td>Very Good</td>\n",
       "      <td>7 Average</td>\n",
       "      <td>1360</td>\n",
       "      <td>5000</td>\n",
       "    </tr>\n",
       "    <tr>\n",
       "      <th>4</th>\n",
       "      <td>510000.0</td>\n",
       "      <td>3</td>\n",
       "      <td>2.00</td>\n",
       "      <td>1680</td>\n",
       "      <td>8080</td>\n",
       "      <td>NO</td>\n",
       "      <td>NONE</td>\n",
       "      <td>Average</td>\n",
       "      <td>8 Good</td>\n",
       "      <td>1800</td>\n",
       "      <td>7503</td>\n",
       "    </tr>\n",
       "    <tr>\n",
       "      <th>...</th>\n",
       "      <td>...</td>\n",
       "      <td>...</td>\n",
       "      <td>...</td>\n",
       "      <td>...</td>\n",
       "      <td>...</td>\n",
       "      <td>...</td>\n",
       "      <td>...</td>\n",
       "      <td>...</td>\n",
       "      <td>...</td>\n",
       "      <td>...</td>\n",
       "      <td>...</td>\n",
       "    </tr>\n",
       "    <tr>\n",
       "      <th>21592</th>\n",
       "      <td>360000.0</td>\n",
       "      <td>3</td>\n",
       "      <td>2.50</td>\n",
       "      <td>1530</td>\n",
       "      <td>1131</td>\n",
       "      <td>NO</td>\n",
       "      <td>NONE</td>\n",
       "      <td>Average</td>\n",
       "      <td>8 Good</td>\n",
       "      <td>1530</td>\n",
       "      <td>1509</td>\n",
       "    </tr>\n",
       "    <tr>\n",
       "      <th>21593</th>\n",
       "      <td>400000.0</td>\n",
       "      <td>4</td>\n",
       "      <td>2.50</td>\n",
       "      <td>2310</td>\n",
       "      <td>5813</td>\n",
       "      <td>NO</td>\n",
       "      <td>NONE</td>\n",
       "      <td>Average</td>\n",
       "      <td>8 Good</td>\n",
       "      <td>1830</td>\n",
       "      <td>7200</td>\n",
       "    </tr>\n",
       "    <tr>\n",
       "      <th>21594</th>\n",
       "      <td>402101.0</td>\n",
       "      <td>2</td>\n",
       "      <td>0.75</td>\n",
       "      <td>1020</td>\n",
       "      <td>1350</td>\n",
       "      <td>NO</td>\n",
       "      <td>NONE</td>\n",
       "      <td>Average</td>\n",
       "      <td>7 Average</td>\n",
       "      <td>1020</td>\n",
       "      <td>2007</td>\n",
       "    </tr>\n",
       "    <tr>\n",
       "      <th>21595</th>\n",
       "      <td>400000.0</td>\n",
       "      <td>3</td>\n",
       "      <td>2.50</td>\n",
       "      <td>1600</td>\n",
       "      <td>2388</td>\n",
       "      <td>NO</td>\n",
       "      <td>NONE</td>\n",
       "      <td>Average</td>\n",
       "      <td>8 Good</td>\n",
       "      <td>1410</td>\n",
       "      <td>1287</td>\n",
       "    </tr>\n",
       "    <tr>\n",
       "      <th>21596</th>\n",
       "      <td>325000.0</td>\n",
       "      <td>2</td>\n",
       "      <td>0.75</td>\n",
       "      <td>1020</td>\n",
       "      <td>1076</td>\n",
       "      <td>NO</td>\n",
       "      <td>NONE</td>\n",
       "      <td>Average</td>\n",
       "      <td>7 Average</td>\n",
       "      <td>1020</td>\n",
       "      <td>1357</td>\n",
       "    </tr>\n",
       "  </tbody>\n",
       "</table>\n",
       "<p>21184 rows × 11 columns</p>\n",
       "</div>"
      ],
      "text/plain": [
       "          price  bedrooms  bathrooms  sqft_living  sqft_lot waterfront  view  \\\n",
       "0      221900.0         3       1.00         1180      5650         NO  NONE   \n",
       "1      538000.0         3       2.25         2570      7242         NO  NONE   \n",
       "2      180000.0         2       1.00          770     10000         NO  NONE   \n",
       "3      604000.0         4       3.00         1960      5000         NO  NONE   \n",
       "4      510000.0         3       2.00         1680      8080         NO  NONE   \n",
       "...         ...       ...        ...          ...       ...        ...   ...   \n",
       "21592  360000.0         3       2.50         1530      1131         NO  NONE   \n",
       "21593  400000.0         4       2.50         2310      5813         NO  NONE   \n",
       "21594  402101.0         2       0.75         1020      1350         NO  NONE   \n",
       "21595  400000.0         3       2.50         1600      2388         NO  NONE   \n",
       "21596  325000.0         2       0.75         1020      1076         NO  NONE   \n",
       "\n",
       "       condition          grade  sqft_living15  sqft_lot15  \n",
       "0        Average      7 Average           1340        5650  \n",
       "1        Average      7 Average           1690        7639  \n",
       "2        Average  6 Low Average           2720        8062  \n",
       "3      Very Good      7 Average           1360        5000  \n",
       "4        Average         8 Good           1800        7503  \n",
       "...          ...            ...            ...         ...  \n",
       "21592    Average         8 Good           1530        1509  \n",
       "21593    Average         8 Good           1830        7200  \n",
       "21594    Average      7 Average           1020        2007  \n",
       "21595    Average         8 Good           1410        1287  \n",
       "21596    Average      7 Average           1020        1357  \n",
       "\n",
       "[21184 rows x 11 columns]"
      ]
     },
     "execution_count": 36,
     "metadata": {},
     "output_type": "execute_result"
    }
   ],
   "source": [
    "data_clean"
   ]
  },
  {
   "cell_type": "code",
   "execution_count": 37,
   "metadata": {},
   "outputs": [],
   "source": [
    "data_clean[\"waterfront\"]= data_clean[\"waterfront\"].astype(\"category\")"
   ]
  },
  {
   "cell_type": "code",
   "execution_count": 38,
   "metadata": {},
   "outputs": [
    {
     "name": "stdout",
     "output_type": "stream",
     "text": [
      "<class 'pandas.core.frame.DataFrame'>\n",
      "Int64Index: 21184 entries, 0 to 21596\n",
      "Data columns (total 11 columns):\n",
      " #   Column         Non-Null Count  Dtype   \n",
      "---  ------         --------------  -----   \n",
      " 0   price          21184 non-null  float64 \n",
      " 1   bedrooms       21184 non-null  int64   \n",
      " 2   bathrooms      21184 non-null  float64 \n",
      " 3   sqft_living    21184 non-null  int64   \n",
      " 4   sqft_lot       21184 non-null  int64   \n",
      " 5   waterfront     21184 non-null  category\n",
      " 6   view           21184 non-null  category\n",
      " 7   condition      21184 non-null  category\n",
      " 8   grade          21184 non-null  category\n",
      " 9   sqft_living15  21184 non-null  int64   \n",
      " 10  sqft_lot15     21184 non-null  int64   \n",
      "dtypes: category(4), float64(2), int64(5)\n",
      "memory usage: 1.4 MB\n"
     ]
    }
   ],
   "source": [
    "data_clean.info()"
   ]
  },
  {
   "cell_type": "code",
   "execution_count": 39,
   "metadata": {},
   "outputs": [
    {
     "data": {
      "text/plain": [
       "NO     21102\n",
       "YES       82\n",
       "Name: waterfront, dtype: int64"
      ]
     },
     "execution_count": 39,
     "metadata": {},
     "output_type": "execute_result"
    }
   ],
   "source": [
    "data_clean[\"waterfront\"].value_counts()"
   ]
  },
  {
   "cell_type": "code",
   "execution_count": 40,
   "metadata": {},
   "outputs": [],
   "source": [
    "data_clean[\"waterfront\"] = data_clean['waterfront'].replace(['NO', 'YES'], [0, 1])"
   ]
  },
  {
   "cell_type": "code",
   "execution_count": 41,
   "metadata": {},
   "outputs": [
    {
     "data": {
      "text/plain": [
       "NONE         19299\n",
       "AVERAGE        903\n",
       "GOOD           453\n",
       "FAIR           308\n",
       "EXCELLENT      221\n",
       "Name: view, dtype: int64"
      ]
     },
     "execution_count": 41,
     "metadata": {},
     "output_type": "execute_result"
    }
   ],
   "source": [
    "data_clean[\"view\"].value_counts()"
   ]
  },
  {
   "cell_type": "code",
   "execution_count": 42,
   "metadata": {},
   "outputs": [],
   "source": [
    "data_clean[\"view\"] = data_clean[\"view\"].replace([\"NONE\", \"AVERAGE\", \"GOOD\", \"FAIR\", \"EXCELLENT\"], [0, 1, 2, 3, 4])"
   ]
  },
  {
   "cell_type": "code",
   "execution_count": 43,
   "metadata": {},
   "outputs": [
    {
     "data": {
      "text/plain": [
       "Average      13755\n",
       "Good          5582\n",
       "Very Good     1649\n",
       "Fair           169\n",
       "Poor            29\n",
       "Name: condition, dtype: int64"
      ]
     },
     "execution_count": 43,
     "metadata": {},
     "output_type": "execute_result"
    }
   ],
   "source": [
    "data_clean[\"condition\"].value_counts()"
   ]
  },
  {
   "cell_type": "code",
   "execution_count": 44,
   "metadata": {},
   "outputs": [],
   "source": [
    "data_clean[\"condition\"] = data_clean[\"condition\"].replace\\\n",
    "([\"Poor\", \"Fair\", \"Average\", \"Good\", \"Very Good\"], [1, 2, 3, 4, 5]).astype('int64')\n"
   ]
  },
  {
   "cell_type": "code",
   "execution_count": 45,
   "metadata": {},
   "outputs": [
    {
     "data": {
      "text/plain": [
       "7 Average        8959\n",
       "8 Good           6045\n",
       "9 Better         2554\n",
       "6 Low Average    2038\n",
       "10 Very Good     1003\n",
       "11 Excellent      283\n",
       "5 Fair            242\n",
       "12 Luxury          32\n",
       "4 Low              27\n",
       "3 Poor              1\n",
       "13 Mansion          0\n",
       "Name: grade, dtype: int64"
      ]
     },
     "execution_count": 45,
     "metadata": {},
     "output_type": "execute_result"
    }
   ],
   "source": [
    "data_clean[\"grade\"].value_counts()"
   ]
  },
  {
   "cell_type": "code",
   "execution_count": 46,
   "metadata": {},
   "outputs": [],
   "source": [
    "data_clean['grade'] =  data_clean[\"grade\"].replace([\"3 Poor\", \"4 Low\",\"5 Fair\", \"6 Low Average\", \"7 Average\",\\\n",
    "                    \"8 Good\", \"9 Better\", \"10 Very Good\", \"11 Excellent\", \"12 Luxury\", \"13 Mansion\"],\\\n",
    "                    [1, 2, 3, 4, 5, 6, 7, 8, 9, 10, 11]).astype('int64')"
   ]
  },
  {
   "cell_type": "markdown",
   "metadata": {},
   "source": [
    "#### Modelling"
   ]
  },
  {
   "cell_type": "code",
   "execution_count": 47,
   "metadata": {},
   "outputs": [
    {
     "data": {
      "text/html": [
       "<table class=\"simpletable\">\n",
       "<caption>OLS Regression Results</caption>\n",
       "<tr>\n",
       "  <th>Dep. Variable:</th>          <td>price</td>      <th>  R-squared:         </th>  <td>   0.452</td>  \n",
       "</tr>\n",
       "<tr>\n",
       "  <th>Model:</th>                   <td>OLS</td>       <th>  Adj. R-squared:    </th>  <td>   0.452</td>  \n",
       "</tr>\n",
       "<tr>\n",
       "  <th>Method:</th>             <td>Least Squares</td>  <th>  F-statistic:       </th>  <td>1.748e+04</td> \n",
       "</tr>\n",
       "<tr>\n",
       "  <th>Date:</th>             <td>Fri, 30 Sep 2022</td> <th>  Prob (F-statistic):</th>   <td>  0.00</td>   \n",
       "</tr>\n",
       "<tr>\n",
       "  <th>Time:</th>                 <td>15:54:44</td>     <th>  Log-Likelihood:    </th> <td>-2.8790e+05</td>\n",
       "</tr>\n",
       "<tr>\n",
       "  <th>No. Observations:</th>      <td> 21184</td>      <th>  AIC:               </th>  <td>5.758e+05</td> \n",
       "</tr>\n",
       "<tr>\n",
       "  <th>Df Residuals:</th>          <td> 21182</td>      <th>  BIC:               </th>  <td>5.758e+05</td> \n",
       "</tr>\n",
       "<tr>\n",
       "  <th>Df Model:</th>              <td>     1</td>      <th>                     </th>      <td> </td>     \n",
       "</tr>\n",
       "<tr>\n",
       "  <th>Covariance Type:</th>      <td>nonrobust</td>    <th>                     </th>      <td> </td>     \n",
       "</tr>\n",
       "</table>\n",
       "<table class=\"simpletable\">\n",
       "<tr>\n",
       "      <td></td>         <th>coef</th>     <th>std err</th>      <th>t</th>      <th>P>|t|</th>  <th>[0.025</th>    <th>0.975]</th>  \n",
       "</tr>\n",
       "<tr>\n",
       "  <th>Intercept</th> <td> -3.79e+05</td> <td> 6836.173</td> <td>  -55.440</td> <td> 0.000</td> <td>-3.92e+05</td> <td>-3.66e+05</td>\n",
       "</tr>\n",
       "<tr>\n",
       "  <th>grade</th>     <td> 1.581e+05</td> <td> 1196.133</td> <td>  132.206</td> <td> 0.000</td> <td> 1.56e+05</td> <td>  1.6e+05</td>\n",
       "</tr>\n",
       "</table>\n",
       "<table class=\"simpletable\">\n",
       "<tr>\n",
       "  <th>Omnibus:</th>       <td>4139.124</td> <th>  Durbin-Watson:     </th> <td>   1.937</td>\n",
       "</tr>\n",
       "<tr>\n",
       "  <th>Prob(Omnibus):</th>  <td> 0.000</td>  <th>  Jarque-Bera (JB):  </th> <td>9552.153</td>\n",
       "</tr>\n",
       "<tr>\n",
       "  <th>Skew:</th>           <td> 1.111</td>  <th>  Prob(JB):          </th> <td>    0.00</td>\n",
       "</tr>\n",
       "<tr>\n",
       "  <th>Kurtosis:</th>       <td> 5.425</td>  <th>  Cond. No.          </th> <td>    30.3</td>\n",
       "</tr>\n",
       "</table><br/><br/>Notes:<br/>[1] Standard Errors assume that the covariance matrix of the errors is correctly specified."
      ],
      "text/plain": [
       "<class 'statsmodels.iolib.summary.Summary'>\n",
       "\"\"\"\n",
       "                            OLS Regression Results                            \n",
       "==============================================================================\n",
       "Dep. Variable:                  price   R-squared:                       0.452\n",
       "Model:                            OLS   Adj. R-squared:                  0.452\n",
       "Method:                 Least Squares   F-statistic:                 1.748e+04\n",
       "Date:                Fri, 30 Sep 2022   Prob (F-statistic):               0.00\n",
       "Time:                        15:54:44   Log-Likelihood:            -2.8790e+05\n",
       "No. Observations:               21184   AIC:                         5.758e+05\n",
       "Df Residuals:                   21182   BIC:                         5.758e+05\n",
       "Df Model:                           1                                         \n",
       "Covariance Type:            nonrobust                                         \n",
       "==============================================================================\n",
       "                 coef    std err          t      P>|t|      [0.025      0.975]\n",
       "------------------------------------------------------------------------------\n",
       "Intercept   -3.79e+05   6836.173    -55.440      0.000   -3.92e+05   -3.66e+05\n",
       "grade       1.581e+05   1196.133    132.206      0.000    1.56e+05     1.6e+05\n",
       "==============================================================================\n",
       "Omnibus:                     4139.124   Durbin-Watson:                   1.937\n",
       "Prob(Omnibus):                  0.000   Jarque-Bera (JB):             9552.153\n",
       "Skew:                           1.111   Prob(JB):                         0.00\n",
       "Kurtosis:                       5.425   Cond. No.                         30.3\n",
       "==============================================================================\n",
       "\n",
       "Notes:\n",
       "[1] Standard Errors assume that the covariance matrix of the errors is correctly specified.\n",
       "\"\"\""
      ]
     },
     "execution_count": 47,
     "metadata": {},
     "output_type": "execute_result"
    }
   ],
   "source": [
    "Mdl_1 = smf.ols(formula=\"price ~ grade\", data=data_clean).fit()\n",
    "Mdl_1.summary()"
   ]
  },
  {
   "cell_type": "code",
   "execution_count": 48,
   "metadata": {},
   "outputs": [
    {
     "data": {
      "text/html": [
       "<table class=\"simpletable\">\n",
       "<caption>OLS Regression Results</caption>\n",
       "<tr>\n",
       "  <th>Dep. Variable:</th>          <td>price</td>      <th>  R-squared:         </th>  <td>   0.507</td>  \n",
       "</tr>\n",
       "<tr>\n",
       "  <th>Model:</th>                   <td>OLS</td>       <th>  Adj. R-squared:    </th>  <td>   0.507</td>  \n",
       "</tr>\n",
       "<tr>\n",
       "  <th>Method:</th>             <td>Least Squares</td>  <th>  F-statistic:       </th>  <td>   7268.</td>  \n",
       "</tr>\n",
       "<tr>\n",
       "  <th>Date:</th>             <td>Fri, 30 Sep 2022</td> <th>  Prob (F-statistic):</th>   <td>  0.00</td>   \n",
       "</tr>\n",
       "<tr>\n",
       "  <th>Time:</th>                 <td>15:54:44</td>     <th>  Log-Likelihood:    </th> <td>-2.8677e+05</td>\n",
       "</tr>\n",
       "<tr>\n",
       "  <th>No. Observations:</th>      <td> 21184</td>      <th>  AIC:               </th>  <td>5.736e+05</td> \n",
       "</tr>\n",
       "<tr>\n",
       "  <th>Df Residuals:</th>          <td> 21180</td>      <th>  BIC:               </th>  <td>5.736e+05</td> \n",
       "</tr>\n",
       "<tr>\n",
       "  <th>Df Model:</th>              <td>     3</td>      <th>                     </th>      <td> </td>     \n",
       "</tr>\n",
       "<tr>\n",
       "  <th>Covariance Type:</th>      <td>nonrobust</td>    <th>                     </th>      <td> </td>     \n",
       "</tr>\n",
       "</table>\n",
       "<table class=\"simpletable\">\n",
       "<tr>\n",
       "      <td></td>         <th>coef</th>     <th>std err</th>      <th>t</th>      <th>P>|t|</th>  <th>[0.025</th>    <th>0.975]</th>  \n",
       "</tr>\n",
       "<tr>\n",
       "  <th>Intercept</th> <td>-5.661e+05</td> <td> 1.02e+04</td> <td>  -55.693</td> <td> 0.000</td> <td>-5.86e+05</td> <td>-5.46e+05</td>\n",
       "</tr>\n",
       "<tr>\n",
       "  <th>grade</th>     <td> 1.559e+05</td> <td> 1167.438</td> <td>  133.549</td> <td> 0.000</td> <td> 1.54e+05</td> <td> 1.58e+05</td>\n",
       "</tr>\n",
       "<tr>\n",
       "  <th>condition</th> <td>  5.47e+04</td> <td> 1969.232</td> <td>   27.775</td> <td> 0.000</td> <td> 5.08e+04</td> <td> 5.86e+04</td>\n",
       "</tr>\n",
       "<tr>\n",
       "  <th>view</th>      <td> 7.707e+04</td> <td> 2032.329</td> <td>   37.921</td> <td> 0.000</td> <td> 7.31e+04</td> <td> 8.11e+04</td>\n",
       "</tr>\n",
       "</table>\n",
       "<table class=\"simpletable\">\n",
       "<tr>\n",
       "  <th>Omnibus:</th>       <td>3609.786</td> <th>  Durbin-Watson:     </th> <td>   1.949</td>\n",
       "</tr>\n",
       "<tr>\n",
       "  <th>Prob(Omnibus):</th>  <td> 0.000</td>  <th>  Jarque-Bera (JB):  </th> <td>8176.880</td>\n",
       "</tr>\n",
       "<tr>\n",
       "  <th>Skew:</th>           <td> 0.986</td>  <th>  Prob(JB):          </th> <td>    0.00</td>\n",
       "</tr>\n",
       "<tr>\n",
       "  <th>Kurtosis:</th>       <td> 5.318</td>  <th>  Cond. No.          </th> <td>    55.0</td>\n",
       "</tr>\n",
       "</table><br/><br/>Notes:<br/>[1] Standard Errors assume that the covariance matrix of the errors is correctly specified."
      ],
      "text/plain": [
       "<class 'statsmodels.iolib.summary.Summary'>\n",
       "\"\"\"\n",
       "                            OLS Regression Results                            \n",
       "==============================================================================\n",
       "Dep. Variable:                  price   R-squared:                       0.507\n",
       "Model:                            OLS   Adj. R-squared:                  0.507\n",
       "Method:                 Least Squares   F-statistic:                     7268.\n",
       "Date:                Fri, 30 Sep 2022   Prob (F-statistic):               0.00\n",
       "Time:                        15:54:44   Log-Likelihood:            -2.8677e+05\n",
       "No. Observations:               21184   AIC:                         5.736e+05\n",
       "Df Residuals:                   21180   BIC:                         5.736e+05\n",
       "Df Model:                           3                                         \n",
       "Covariance Type:            nonrobust                                         \n",
       "==============================================================================\n",
       "                 coef    std err          t      P>|t|      [0.025      0.975]\n",
       "------------------------------------------------------------------------------\n",
       "Intercept  -5.661e+05   1.02e+04    -55.693      0.000   -5.86e+05   -5.46e+05\n",
       "grade       1.559e+05   1167.438    133.549      0.000    1.54e+05    1.58e+05\n",
       "condition    5.47e+04   1969.232     27.775      0.000    5.08e+04    5.86e+04\n",
       "view        7.707e+04   2032.329     37.921      0.000    7.31e+04    8.11e+04\n",
       "==============================================================================\n",
       "Omnibus:                     3609.786   Durbin-Watson:                   1.949\n",
       "Prob(Omnibus):                  0.000   Jarque-Bera (JB):             8176.880\n",
       "Skew:                           0.986   Prob(JB):                         0.00\n",
       "Kurtosis:                       5.318   Cond. No.                         55.0\n",
       "==============================================================================\n",
       "\n",
       "Notes:\n",
       "[1] Standard Errors assume that the covariance matrix of the errors is correctly specified.\n",
       "\"\"\""
      ]
     },
     "execution_count": 48,
     "metadata": {},
     "output_type": "execute_result"
    }
   ],
   "source": [
    "Mdl_2 = smf.ols(formula='price ~ grade + condition + view', data=data_clean).fit()\n",
    "Mdl_2.summary()"
   ]
  },
  {
   "cell_type": "code",
   "execution_count": 49,
   "metadata": {},
   "outputs": [
    {
     "data": {
      "text/html": [
       "<table class=\"simpletable\">\n",
       "<caption>OLS Regression Results</caption>\n",
       "<tr>\n",
       "  <th>Dep. Variable:</th>          <td>price</td>      <th>  R-squared:         </th>  <td>   0.556</td>  \n",
       "</tr>\n",
       "<tr>\n",
       "  <th>Model:</th>                   <td>OLS</td>       <th>  Adj. R-squared:    </th>  <td>   0.556</td>  \n",
       "</tr>\n",
       "<tr>\n",
       "  <th>Method:</th>             <td>Least Squares</td>  <th>  F-statistic:       </th>  <td>   6641.</td>  \n",
       "</tr>\n",
       "<tr>\n",
       "  <th>Date:</th>             <td>Fri, 30 Sep 2022</td> <th>  Prob (F-statistic):</th>   <td>  0.00</td>   \n",
       "</tr>\n",
       "<tr>\n",
       "  <th>Time:</th>                 <td>15:54:44</td>     <th>  Log-Likelihood:    </th> <td>-2.8566e+05</td>\n",
       "</tr>\n",
       "<tr>\n",
       "  <th>No. Observations:</th>      <td> 21184</td>      <th>  AIC:               </th>  <td>5.713e+05</td> \n",
       "</tr>\n",
       "<tr>\n",
       "  <th>Df Residuals:</th>          <td> 21179</td>      <th>  BIC:               </th>  <td>5.714e+05</td> \n",
       "</tr>\n",
       "<tr>\n",
       "  <th>Df Model:</th>              <td>     4</td>      <th>                     </th>      <td> </td>     \n",
       "</tr>\n",
       "<tr>\n",
       "  <th>Covariance Type:</th>      <td>nonrobust</td>    <th>                     </th>      <td> </td>     \n",
       "</tr>\n",
       "</table>\n",
       "<table class=\"simpletable\">\n",
       "<tr>\n",
       "       <td></td>          <th>coef</th>     <th>std err</th>      <th>t</th>      <th>P>|t|</th>  <th>[0.025</th>    <th>0.975]</th>  \n",
       "</tr>\n",
       "<tr>\n",
       "  <th>Intercept</th>   <td> -4.33e+05</td> <td>    1e+04</td> <td>  -43.173</td> <td> 0.000</td> <td>-4.53e+05</td> <td>-4.13e+05</td>\n",
       "</tr>\n",
       "<tr>\n",
       "  <th>grade</th>       <td> 9.857e+04</td> <td> 1621.628</td> <td>   60.784</td> <td> 0.000</td> <td> 9.54e+04</td> <td> 1.02e+05</td>\n",
       "</tr>\n",
       "<tr>\n",
       "  <th>condition</th>   <td> 4.865e+04</td> <td> 1872.741</td> <td>   25.979</td> <td> 0.000</td> <td>  4.5e+04</td> <td> 5.23e+04</td>\n",
       "</tr>\n",
       "<tr>\n",
       "  <th>view</th>        <td> 6.714e+04</td> <td> 1939.329</td> <td>   34.618</td> <td> 0.000</td> <td> 6.33e+04</td> <td> 7.09e+04</td>\n",
       "</tr>\n",
       "<tr>\n",
       "  <th>sqft_living</th> <td>  103.6725</td> <td>    2.141</td> <td>   48.418</td> <td> 0.000</td> <td>   99.476</td> <td>  107.869</td>\n",
       "</tr>\n",
       "</table>\n",
       "<table class=\"simpletable\">\n",
       "<tr>\n",
       "  <th>Omnibus:</th>       <td>3419.632</td> <th>  Durbin-Watson:     </th> <td>   1.955</td>\n",
       "</tr>\n",
       "<tr>\n",
       "  <th>Prob(Omnibus):</th>  <td> 0.000</td>  <th>  Jarque-Bera (JB):  </th> <td>7931.464</td>\n",
       "</tr>\n",
       "<tr>\n",
       "  <th>Skew:</th>           <td> 0.931</td>  <th>  Prob(JB):          </th> <td>    0.00</td>\n",
       "</tr>\n",
       "<tr>\n",
       "  <th>Kurtosis:</th>       <td> 5.349</td>  <th>  Cond. No.          </th> <td>1.87e+04</td>\n",
       "</tr>\n",
       "</table><br/><br/>Notes:<br/>[1] Standard Errors assume that the covariance matrix of the errors is correctly specified.<br/>[2] The condition number is large, 1.87e+04. This might indicate that there are<br/>strong multicollinearity or other numerical problems."
      ],
      "text/plain": [
       "<class 'statsmodels.iolib.summary.Summary'>\n",
       "\"\"\"\n",
       "                            OLS Regression Results                            \n",
       "==============================================================================\n",
       "Dep. Variable:                  price   R-squared:                       0.556\n",
       "Model:                            OLS   Adj. R-squared:                  0.556\n",
       "Method:                 Least Squares   F-statistic:                     6641.\n",
       "Date:                Fri, 30 Sep 2022   Prob (F-statistic):               0.00\n",
       "Time:                        15:54:44   Log-Likelihood:            -2.8566e+05\n",
       "No. Observations:               21184   AIC:                         5.713e+05\n",
       "Df Residuals:                   21179   BIC:                         5.714e+05\n",
       "Df Model:                           4                                         \n",
       "Covariance Type:            nonrobust                                         \n",
       "===============================================================================\n",
       "                  coef    std err          t      P>|t|      [0.025      0.975]\n",
       "-------------------------------------------------------------------------------\n",
       "Intercept    -4.33e+05      1e+04    -43.173      0.000   -4.53e+05   -4.13e+05\n",
       "grade        9.857e+04   1621.628     60.784      0.000    9.54e+04    1.02e+05\n",
       "condition    4.865e+04   1872.741     25.979      0.000     4.5e+04    5.23e+04\n",
       "view         6.714e+04   1939.329     34.618      0.000    6.33e+04    7.09e+04\n",
       "sqft_living   103.6725      2.141     48.418      0.000      99.476     107.869\n",
       "==============================================================================\n",
       "Omnibus:                     3419.632   Durbin-Watson:                   1.955\n",
       "Prob(Omnibus):                  0.000   Jarque-Bera (JB):             7931.464\n",
       "Skew:                           0.931   Prob(JB):                         0.00\n",
       "Kurtosis:                       5.349   Cond. No.                     1.87e+04\n",
       "==============================================================================\n",
       "\n",
       "Notes:\n",
       "[1] Standard Errors assume that the covariance matrix of the errors is correctly specified.\n",
       "[2] The condition number is large, 1.87e+04. This might indicate that there are\n",
       "strong multicollinearity or other numerical problems.\n",
       "\"\"\""
      ]
     },
     "execution_count": 49,
     "metadata": {},
     "output_type": "execute_result"
    }
   ],
   "source": [
    "Mdl_3 = smf.ols(formula='price ~ grade + condition + view + sqft_living', data=data_clean).fit()\n",
    "Mdl_3.summary()"
   ]
  },
  {
   "cell_type": "code",
   "execution_count": 50,
   "metadata": {},
   "outputs": [
    {
     "data": {
      "text/html": [
       "<table class=\"simpletable\">\n",
       "<caption>OLS Regression Results</caption>\n",
       "<tr>\n",
       "  <th>Dep. Variable:</th>          <td>price</td>      <th>  R-squared:         </th>  <td>   0.561</td>  \n",
       "</tr>\n",
       "<tr>\n",
       "  <th>Model:</th>                   <td>OLS</td>       <th>  Adj. R-squared:    </th>  <td>   0.561</td>  \n",
       "</tr>\n",
       "<tr>\n",
       "  <th>Method:</th>             <td>Least Squares</td>  <th>  F-statistic:       </th>  <td>   3384.</td>  \n",
       "</tr>\n",
       "<tr>\n",
       "  <th>Date:</th>             <td>Fri, 30 Sep 2022</td> <th>  Prob (F-statistic):</th>   <td>  0.00</td>   \n",
       "</tr>\n",
       "<tr>\n",
       "  <th>Time:</th>                 <td>15:54:44</td>     <th>  Log-Likelihood:    </th> <td>-2.8555e+05</td>\n",
       "</tr>\n",
       "<tr>\n",
       "  <th>No. Observations:</th>      <td> 21184</td>      <th>  AIC:               </th>  <td>5.711e+05</td> \n",
       "</tr>\n",
       "<tr>\n",
       "  <th>Df Residuals:</th>          <td> 21175</td>      <th>  BIC:               </th>  <td>5.712e+05</td> \n",
       "</tr>\n",
       "<tr>\n",
       "  <th>Df Model:</th>              <td>     8</td>      <th>                     </th>      <td> </td>     \n",
       "</tr>\n",
       "<tr>\n",
       "  <th>Covariance Type:</th>      <td>nonrobust</td>    <th>                     </th>      <td> </td>     \n",
       "</tr>\n",
       "</table>\n",
       "<table class=\"simpletable\">\n",
       "<tr>\n",
       "       <td></td>          <th>coef</th>     <th>std err</th>      <th>t</th>      <th>P>|t|</th>  <th>[0.025</th>    <th>0.975]</th>  \n",
       "</tr>\n",
       "<tr>\n",
       "  <th>Intercept</th>   <td>-3.878e+05</td> <td> 1.08e+04</td> <td>  -35.933</td> <td> 0.000</td> <td>-4.09e+05</td> <td>-3.67e+05</td>\n",
       "</tr>\n",
       "<tr>\n",
       "  <th>grade</th>       <td> 9.776e+04</td> <td> 1677.893</td> <td>   58.265</td> <td> 0.000</td> <td> 9.45e+04</td> <td> 1.01e+05</td>\n",
       "</tr>\n",
       "<tr>\n",
       "  <th>condition</th>   <td> 4.905e+04</td> <td> 1875.833</td> <td>   26.150</td> <td> 0.000</td> <td> 4.54e+04</td> <td> 5.27e+04</td>\n",
       "</tr>\n",
       "<tr>\n",
       "  <th>view</th>        <td> 5.917e+04</td> <td> 2057.360</td> <td>   28.761</td> <td> 0.000</td> <td> 5.51e+04</td> <td> 6.32e+04</td>\n",
       "</tr>\n",
       "<tr>\n",
       "  <th>sqft_living</th> <td>  125.3277</td> <td>    2.769</td> <td>   45.257</td> <td> 0.000</td> <td>  119.900</td> <td>  130.756</td>\n",
       "</tr>\n",
       "<tr>\n",
       "  <th>waterfront</th>  <td> 1.738e+05</td> <td> 2.04e+04</td> <td>    8.538</td> <td> 0.000</td> <td> 1.34e+05</td> <td> 2.14e+05</td>\n",
       "</tr>\n",
       "<tr>\n",
       "  <th>sqft_lot</th>    <td>   -0.1243</td> <td>    0.030</td> <td>   -4.188</td> <td> 0.000</td> <td>   -0.183</td> <td>   -0.066</td>\n",
       "</tr>\n",
       "<tr>\n",
       "  <th>bedrooms</th>    <td>-1.728e+04</td> <td> 1757.805</td> <td>   -9.832</td> <td> 0.000</td> <td>-2.07e+04</td> <td>-1.38e+04</td>\n",
       "</tr>\n",
       "<tr>\n",
       "  <th>bathrooms</th>   <td> -1.23e+04</td> <td> 2506.779</td> <td>   -4.905</td> <td> 0.000</td> <td>-1.72e+04</td> <td>-7382.417</td>\n",
       "</tr>\n",
       "</table>\n",
       "<table class=\"simpletable\">\n",
       "<tr>\n",
       "  <th>Omnibus:</th>       <td>3425.481</td> <th>  Durbin-Watson:     </th> <td>   1.955</td>\n",
       "</tr>\n",
       "<tr>\n",
       "  <th>Prob(Omnibus):</th>  <td> 0.000</td>  <th>  Jarque-Bera (JB):  </th> <td>8150.822</td>\n",
       "</tr>\n",
       "<tr>\n",
       "  <th>Skew:</th>           <td> 0.924</td>  <th>  Prob(JB):          </th> <td>    0.00</td>\n",
       "</tr>\n",
       "<tr>\n",
       "  <th>Kurtosis:</th>       <td> 5.413</td>  <th>  Cond. No.          </th> <td>7.46e+05</td>\n",
       "</tr>\n",
       "</table><br/><br/>Notes:<br/>[1] Standard Errors assume that the covariance matrix of the errors is correctly specified.<br/>[2] The condition number is large, 7.46e+05. This might indicate that there are<br/>strong multicollinearity or other numerical problems."
      ],
      "text/plain": [
       "<class 'statsmodels.iolib.summary.Summary'>\n",
       "\"\"\"\n",
       "                            OLS Regression Results                            \n",
       "==============================================================================\n",
       "Dep. Variable:                  price   R-squared:                       0.561\n",
       "Model:                            OLS   Adj. R-squared:                  0.561\n",
       "Method:                 Least Squares   F-statistic:                     3384.\n",
       "Date:                Fri, 30 Sep 2022   Prob (F-statistic):               0.00\n",
       "Time:                        15:54:44   Log-Likelihood:            -2.8555e+05\n",
       "No. Observations:               21184   AIC:                         5.711e+05\n",
       "Df Residuals:                   21175   BIC:                         5.712e+05\n",
       "Df Model:                           8                                         \n",
       "Covariance Type:            nonrobust                                         \n",
       "===============================================================================\n",
       "                  coef    std err          t      P>|t|      [0.025      0.975]\n",
       "-------------------------------------------------------------------------------\n",
       "Intercept   -3.878e+05   1.08e+04    -35.933      0.000   -4.09e+05   -3.67e+05\n",
       "grade        9.776e+04   1677.893     58.265      0.000    9.45e+04    1.01e+05\n",
       "condition    4.905e+04   1875.833     26.150      0.000    4.54e+04    5.27e+04\n",
       "view         5.917e+04   2057.360     28.761      0.000    5.51e+04    6.32e+04\n",
       "sqft_living   125.3277      2.769     45.257      0.000     119.900     130.756\n",
       "waterfront   1.738e+05   2.04e+04      8.538      0.000    1.34e+05    2.14e+05\n",
       "sqft_lot       -0.1243      0.030     -4.188      0.000      -0.183      -0.066\n",
       "bedrooms    -1.728e+04   1757.805     -9.832      0.000   -2.07e+04   -1.38e+04\n",
       "bathrooms    -1.23e+04   2506.779     -4.905      0.000   -1.72e+04   -7382.417\n",
       "==============================================================================\n",
       "Omnibus:                     3425.481   Durbin-Watson:                   1.955\n",
       "Prob(Omnibus):                  0.000   Jarque-Bera (JB):             8150.822\n",
       "Skew:                           0.924   Prob(JB):                         0.00\n",
       "Kurtosis:                       5.413   Cond. No.                     7.46e+05\n",
       "==============================================================================\n",
       "\n",
       "Notes:\n",
       "[1] Standard Errors assume that the covariance matrix of the errors is correctly specified.\n",
       "[2] The condition number is large, 7.46e+05. This might indicate that there are\n",
       "strong multicollinearity or other numerical problems.\n",
       "\"\"\""
      ]
     },
     "execution_count": 50,
     "metadata": {},
     "output_type": "execute_result"
    }
   ],
   "source": [
    "Mdl_4 = smf.ols(formula=\\\n",
    "                'price ~ grade + condition + view + sqft_living + waterfront +sqft_lot + bedrooms + bathrooms',\\\n",
    "                data=data_clean).fit()\n",
    "Mdl_4.summary()"
   ]
  },
  {
   "cell_type": "code",
   "execution_count": 51,
   "metadata": {},
   "outputs": [
    {
     "name": "stdout",
     "output_type": "stream",
     "text": [
      "Training Score: 0.57\n",
      "Test Score: 0.56\n",
      "Intercept: -400416.2520018151\n",
      "Coefficients: [-1.74451147e+04 -1.13945305e+04  1.14180000e+02  1.07012606e-01\n",
      "  1.96988667e+05  5.64803951e+04  5.13599142e+04  9.21993850e+04\n",
      "  3.06114626e+01 -5.06954666e-01]\n"
     ]
    },
    {
     "data": {
      "text/html": [
       "<table class=\"simpletable\">\n",
       "<caption>OLS Regression Results</caption>\n",
       "<tr>\n",
       "  <th>Dep. Variable:</th>          <td>price</td>      <th>  R-squared:         </th>  <td>   0.566</td>  \n",
       "</tr>\n",
       "<tr>\n",
       "  <th>Model:</th>                   <td>OLS</td>       <th>  Adj. R-squared:    </th>  <td>   0.566</td>  \n",
       "</tr>\n",
       "<tr>\n",
       "  <th>Method:</th>             <td>Least Squares</td>  <th>  F-statistic:       </th>  <td>   2207.</td>  \n",
       "</tr>\n",
       "<tr>\n",
       "  <th>Date:</th>             <td>Fri, 30 Sep 2022</td> <th>  Prob (F-statistic):</th>   <td>  0.00</td>   \n",
       "</tr>\n",
       "<tr>\n",
       "  <th>Time:</th>                 <td>15:54:45</td>     <th>  Log-Likelihood:    </th> <td>-2.2839e+05</td>\n",
       "</tr>\n",
       "<tr>\n",
       "  <th>No. Observations:</th>      <td> 16947</td>      <th>  AIC:               </th>  <td>4.568e+05</td> \n",
       "</tr>\n",
       "<tr>\n",
       "  <th>Df Residuals:</th>          <td> 16936</td>      <th>  BIC:               </th>  <td>4.569e+05</td> \n",
       "</tr>\n",
       "<tr>\n",
       "  <th>Df Model:</th>              <td>    10</td>      <th>                     </th>      <td> </td>     \n",
       "</tr>\n",
       "<tr>\n",
       "  <th>Covariance Type:</th>      <td>nonrobust</td>    <th>                     </th>      <td> </td>     \n",
       "</tr>\n",
       "</table>\n",
       "<table class=\"simpletable\">\n",
       "<tr>\n",
       "        <td></td>           <th>coef</th>     <th>std err</th>      <th>t</th>      <th>P>|t|</th>  <th>[0.025</th>    <th>0.975]</th>  \n",
       "</tr>\n",
       "<tr>\n",
       "  <th>const</th>         <td>-4.004e+05</td> <td> 1.21e+04</td> <td>  -33.172</td> <td> 0.000</td> <td>-4.24e+05</td> <td>-3.77e+05</td>\n",
       "</tr>\n",
       "<tr>\n",
       "  <th>bedrooms</th>      <td>-1.745e+04</td> <td> 1959.783</td> <td>   -8.902</td> <td> 0.000</td> <td>-2.13e+04</td> <td>-1.36e+04</td>\n",
       "</tr>\n",
       "<tr>\n",
       "  <th>bathrooms</th>     <td>-1.139e+04</td> <td> 2799.816</td> <td>   -4.070</td> <td> 0.000</td> <td>-1.69e+04</td> <td>-5906.600</td>\n",
       "</tr>\n",
       "<tr>\n",
       "  <th>sqft_living</th>   <td>  114.1800</td> <td>    3.428</td> <td>   33.309</td> <td> 0.000</td> <td>  107.461</td> <td>  120.899</td>\n",
       "</tr>\n",
       "<tr>\n",
       "  <th>sqft_lot</th>      <td>    0.1070</td> <td>    0.048</td> <td>    2.230</td> <td> 0.026</td> <td>    0.013</td> <td>    0.201</td>\n",
       "</tr>\n",
       "<tr>\n",
       "  <th>waterfront</th>    <td>  1.97e+05</td> <td> 2.33e+04</td> <td>    8.462</td> <td> 0.000</td> <td> 1.51e+05</td> <td> 2.43e+05</td>\n",
       "</tr>\n",
       "<tr>\n",
       "  <th>view</th>          <td> 5.648e+04</td> <td> 2289.102</td> <td>   24.674</td> <td> 0.000</td> <td>  5.2e+04</td> <td>  6.1e+04</td>\n",
       "</tr>\n",
       "<tr>\n",
       "  <th>condition</th>     <td> 5.136e+04</td> <td> 2098.752</td> <td>   24.472</td> <td> 0.000</td> <td> 4.72e+04</td> <td> 5.55e+04</td>\n",
       "</tr>\n",
       "<tr>\n",
       "  <th>grade</th>         <td>  9.22e+04</td> <td> 1960.849</td> <td>   47.020</td> <td> 0.000</td> <td> 8.84e+04</td> <td>  9.6e+04</td>\n",
       "</tr>\n",
       "<tr>\n",
       "  <th>sqft_living15</th> <td>   30.6115</td> <td>    3.280</td> <td>    9.332</td> <td> 0.000</td> <td>   24.182</td> <td>   37.041</td>\n",
       "</tr>\n",
       "<tr>\n",
       "  <th>sqft_lot15</th>    <td>   -0.5070</td> <td>    0.069</td> <td>   -7.304</td> <td> 0.000</td> <td>   -0.643</td> <td>   -0.371</td>\n",
       "</tr>\n",
       "</table>\n",
       "<table class=\"simpletable\">\n",
       "<tr>\n",
       "  <th>Omnibus:</th>       <td>2747.877</td> <th>  Durbin-Watson:     </th> <td>   2.006</td>\n",
       "</tr>\n",
       "<tr>\n",
       "  <th>Prob(Omnibus):</th>  <td> 0.000</td>  <th>  Jarque-Bera (JB):  </th> <td>6641.112</td>\n",
       "</tr>\n",
       "<tr>\n",
       "  <th>Skew:</th>           <td> 0.920</td>  <th>  Prob(JB):          </th> <td>    0.00</td>\n",
       "</tr>\n",
       "<tr>\n",
       "  <th>Kurtosis:</th>       <td> 5.453</td>  <th>  Cond. No.          </th> <td>8.69e+05</td>\n",
       "</tr>\n",
       "</table><br/><br/>Notes:<br/>[1] Standard Errors assume that the covariance matrix of the errors is correctly specified.<br/>[2] The condition number is large, 8.69e+05. This might indicate that there are<br/>strong multicollinearity or other numerical problems."
      ],
      "text/plain": [
       "<class 'statsmodels.iolib.summary.Summary'>\n",
       "\"\"\"\n",
       "                            OLS Regression Results                            \n",
       "==============================================================================\n",
       "Dep. Variable:                  price   R-squared:                       0.566\n",
       "Model:                            OLS   Adj. R-squared:                  0.566\n",
       "Method:                 Least Squares   F-statistic:                     2207.\n",
       "Date:                Fri, 30 Sep 2022   Prob (F-statistic):               0.00\n",
       "Time:                        15:54:45   Log-Likelihood:            -2.2839e+05\n",
       "No. Observations:               16947   AIC:                         4.568e+05\n",
       "Df Residuals:                   16936   BIC:                         4.569e+05\n",
       "Df Model:                          10                                         \n",
       "Covariance Type:            nonrobust                                         \n",
       "=================================================================================\n",
       "                    coef    std err          t      P>|t|      [0.025      0.975]\n",
       "---------------------------------------------------------------------------------\n",
       "const         -4.004e+05   1.21e+04    -33.172      0.000   -4.24e+05   -3.77e+05\n",
       "bedrooms      -1.745e+04   1959.783     -8.902      0.000   -2.13e+04   -1.36e+04\n",
       "bathrooms     -1.139e+04   2799.816     -4.070      0.000   -1.69e+04   -5906.600\n",
       "sqft_living     114.1800      3.428     33.309      0.000     107.461     120.899\n",
       "sqft_lot          0.1070      0.048      2.230      0.026       0.013       0.201\n",
       "waterfront      1.97e+05   2.33e+04      8.462      0.000    1.51e+05    2.43e+05\n",
       "view           5.648e+04   2289.102     24.674      0.000     5.2e+04     6.1e+04\n",
       "condition      5.136e+04   2098.752     24.472      0.000    4.72e+04    5.55e+04\n",
       "grade           9.22e+04   1960.849     47.020      0.000    8.84e+04     9.6e+04\n",
       "sqft_living15    30.6115      3.280      9.332      0.000      24.182      37.041\n",
       "sqft_lot15       -0.5070      0.069     -7.304      0.000      -0.643      -0.371\n",
       "==============================================================================\n",
       "Omnibus:                     2747.877   Durbin-Watson:                   2.006\n",
       "Prob(Omnibus):                  0.000   Jarque-Bera (JB):             6641.112\n",
       "Skew:                           0.920   Prob(JB):                         0.00\n",
       "Kurtosis:                       5.453   Cond. No.                     8.69e+05\n",
       "==============================================================================\n",
       "\n",
       "Notes:\n",
       "[1] Standard Errors assume that the covariance matrix of the errors is correctly specified.\n",
       "[2] The condition number is large, 8.69e+05. This might indicate that there are\n",
       "strong multicollinearity or other numerical problems.\n",
       "\"\"\""
      ]
     },
     "execution_count": 51,
     "metadata": {},
     "output_type": "execute_result"
    }
   ],
   "source": [
    "X = data_clean.drop(columns=[\"price\"], axis=1)\n",
    "y = data_clean[\"price\"]\n",
    "\n",
    "#Split data into training and test sets\n",
    "X_train, X_test, y_train, y_test = train_test_split(X, y, test_size=.20, random_state=1000)\n",
    "\n",
    "#Fit the model\n",
    "linreg = LinearRegression()\n",
    "model = linreg.fit(X_train, y_train)\n",
    "model\n",
    "\n",
    "#View model accuracy\n",
    "train_score = model.score(X_train, y_train)\n",
    "test_score = model.score(X_test, y_test)\n",
    "train_preds = model.predict(X_train)\n",
    "test_preds = model.predict(X_test)\n",
    "\n",
    "print(f\"Training Score: {round(train_score, 2)}\")\n",
    "print(f\"Test Score: {round(test_score, 2)}\")\n",
    "print(f\"Intercept: {model.intercept_}\")\n",
    "print(f\"Coefficients: {model.coef_}\")\n",
    "\n",
    "#View model summary in statsmodels\n",
    "X_train = sm.add_constant(X_train)\n",
    "smmodel = sm.OLS(y_train, X_train).fit()\n",
    "smmodel.summary()"
   ]
  },
  {
   "cell_type": "code",
   "execution_count": 52,
   "metadata": {},
   "outputs": [
    {
     "name": "stderr",
     "output_type": "stream",
     "text": [
      "<ipython-input-52-742d5f188fef>:5: UserWarning: Matplotlib is currently using module://ipykernel.pylab.backend_inline, which is a non-GUI backend, so cannot show the figure.\n",
      "  fig.show()\n"
     ]
    },
    {
     "data": {
      "image/png": "[encoded data removed]",
      "text/plain": [
       "<Figure size 864x576 with 1 Axes>"
      ]
     },
     "metadata": {
      "needs_background": "light"
     },
     "output_type": "display_data"
    }
   ],
   "source": [
    "resids = Mdl_4.resid\n",
    "fig = sm.graphics.qqplot(resids, dist=stats.norm, line='45', fit=True)\n",
    "fig.suptitle('Residuals QQ Plot', fontsize=16, fontweight=\"bold\")\n",
    "fig.set_size_inches(12, 8)\n",
    "fig.show()"
   ]
  },
  {
   "cell_type": "code",
   "execution_count": 53,
   "metadata": {},
   "outputs": [
    {
     "data": {
      "text/plain": [
       "Intercept     -387753.0566\n",
       "bedrooms       -17281.8828\n",
       "bathrooms      -12295.8951\n",
       "sqft_lot           -0.1243\n",
       "sqft_living       125.3277\n",
       "condition       49053.3048\n",
       "view            59172.6419\n",
       "grade           97762.0610\n",
       "waterfront     173810.2037\n",
       "dtype: float64"
      ]
     },
     "execution_count": 53,
     "metadata": {},
     "output_type": "execute_result"
    }
   ],
   "source": [
    "Mdl_4.params.sort_values().round(4)"
   ]
  },
  {
   "cell_type": "markdown",
   "metadata": {},
   "source": [
    "## Conclusions\n",
    "\n",
    "The factors observed to affect house prices positively are:\n",
    "              \n",
    "              * `waterfront` - Whether the house is on a waterfront\n",
    "              * `grade` - Overall grade of the house. Related to the construction and design of the house.\n",
    "  * See the [King County Assessor Website](https://info.kingcounty.gov/assessor/esales/Glossary.aspx?type=r) for further explanation of each building grade code\n",
    "              * `view` - Quality of view from house\n",
    "  * Includes views of Mt. Rainier, Olympics, Cascades, Territorial, Seattle Skyline, Puget Sound, Lake Washington, Lake Sammamish, small lake / river / creek, and other\n",
    "  \n",
    "A positive in any 2 of these 3 means a house should be considered for renovation as it is it bears high yield attributes as a candidaate for flipping. \n",
    "\n",
    "On Waterfront houses within Zip Code 98039 - Medina, Washington State tend to sell at the best prices and in comparison to other places with waterfronts. Said houses also have a good view thus grade is a flexible aspect to consider as renovations could easily be done to increase retail value. \n",
    "It was also observed that recently renovated houses tend to sell at higher prices further stregnthening our argument on the flexibility of grade.\n",
    "\n",
    "Bathrooms and bedroom count are a given with a positive bias towards more bathrooms over bedrooms in the event an extra room is to be converted to either of the two in the renovation process.\n",
    "\n",
    "\n",
    "\n",
    "## Prospects\n",
    "\n",
    "Social economic factors such as proximity to local ammenities like schools, administrative buildings and universities woulld shed more light to the information on factors affecting selling prices.\n",
    "              "
   ]
  }
 ],
 "metadata": {
  "kernelspec": {
   "display_name": "Python (learn-env)",
   "language": "python",
   "name": "learn-env"
  },
  "language_info": {
   "codemirror_mode": {
    "name": "ipython",
    "version": 3
   },
   "file_extension": ".py",
   "mimetype": "text/x-python",
   "name": "python",
   "nbconvert_exporter": "python",
   "pygments_lexer": "ipython3",
   "version": "3.8.5"
  }
 },
 "nbformat": 4,
 "nbformat_minor": 2
}
